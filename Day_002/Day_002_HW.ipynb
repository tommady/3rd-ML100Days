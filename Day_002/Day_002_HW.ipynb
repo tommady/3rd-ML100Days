{
 "cells": [
  {
   "cell_type": "markdown",
   "metadata": {},
   "source": [
    "## [作業目標]\n",
    "了解機器學習適合應用的領域與範疇。"
   ]
  },
  {
   "cell_type": "markdown",
   "metadata": {},
   "source": [
    "## [作業重點]\n",
    "透過瞭解機器學習的運作方式，找出非常適用機器學習應用的領域及其原因"
   ]
  },
  {
   "cell_type": "markdown",
   "metadata": {},
   "source": [
    "## 作業\n",
    "請找出一個你認為機器學習可以發光發熱的領域並闡述原因? "
   ]
  },
  {
   "cell_type": "code",
   "execution_count": null,
   "metadata": {},
   "outputs": [],
   "source": [
    "重複性高的行為, 例如收營, 結帳, A片導演.\n",
    "\n",
    "如 Amazon Go無人商店用影像辨識配上許多重量sensor 去達成無人結帳.\n",
    "如 JP uniqlo無人商店使用 low cost RFID配很單純的影像辨識去達到無人結帳.\n",
    "如 美國通用汽車, 使用學習行機器手臂去達成機器手臂可以複用的流水線.\n",
    "如 A片總結都是那幾種舉動, 只是前後劇情鋪陳有差異, 可以使用劇情機器學習劇情產生器來辦到.\n",
    "\n",
    "總之重複性很高的行為, 機器學習都可以發光發熱, 畢竟人類越來越懶, 連我打這種申論題都很懶了.\n"
   ]
  }
 ],
 "metadata": {
  "kernelspec": {
   "display_name": "Python 3",
   "language": "python",
   "name": "python3"
  },
  "language_info": {
   "codemirror_mode": {
    "name": "ipython",
    "version": 3
   },
   "file_extension": ".py",
   "mimetype": "text/x-python",
   "name": "python",
   "nbconvert_exporter": "python",
   "pygments_lexer": "ipython3",
   "version": "3.7.3"
  }
 },
 "nbformat": 4,
 "nbformat_minor": 2
}
